{
 "cells": [
  {
   "cell_type": "code",
   "execution_count": 56,
   "metadata": {},
   "outputs": [
    {
     "data": {
      "text/plain": [
       "<torch._C.Generator at 0x1242cfbd0>"
      ]
     },
     "execution_count": 56,
     "metadata": {},
     "output_type": "execute_result"
    }
   ],
   "source": [
    "import torch\n",
    "from torchvision import datasets\n",
    "import matplotlib.pyplot as plt\n",
    "import ssl\n",
    "ssl._create_default_https_context = ssl._create_unverified_context\n",
    "\n",
    "torch.manual_seed(123)"
   ]
  },
  {
   "cell_type": "code",
   "execution_count": 57,
   "metadata": {},
   "outputs": [
    {
     "name": "stdout",
     "output_type": "stream",
     "text": [
      "Files already downloaded and verified\n",
      "Files already downloaded and verified\n"
     ]
    }
   ],
   "source": [
    "data_path = '../data-unversioned/p1ch7/'\n",
    "cifar10 = datasets.CIFAR10(data_path, train=True, download=True)\n",
    "cifar10_val = datasets.CIFAR10(data_path, train=False, download=True)"
   ]
  },
  {
   "cell_type": "code",
   "execution_count": 58,
   "metadata": {},
   "outputs": [],
   "source": [
    "class_names = ['airplane','automobile','bird','cat','deer',\n",
    "               'dog','frog','horse','ship','truck']"
   ]
  },
  {
   "cell_type": "code",
   "execution_count": 59,
   "metadata": {},
   "outputs": [
    {
     "data": {
      "text/plain": [
       "(torchvision.datasets.cifar.CIFAR10,\n",
       " torchvision.datasets.vision.VisionDataset,\n",
       " torch.utils.data.dataset.Dataset,\n",
       " typing.Generic,\n",
       " object)"
      ]
     },
     "execution_count": 59,
     "metadata": {},
     "output_type": "execute_result"
    }
   ],
   "source": [
    "type(cifar10).__mro__"
   ]
  },
  {
   "cell_type": "code",
   "execution_count": 60,
   "metadata": {},
   "outputs": [
    {
     "data": {
      "text/plain": [
       "50000"
      ]
     },
     "execution_count": 60,
     "metadata": {},
     "output_type": "execute_result"
    }
   ],
   "source": [
    "len(cifar10)"
   ]
  },
  {
   "cell_type": "code",
   "execution_count": 61,
   "metadata": {},
   "outputs": [
    {
     "data": {
      "text/plain": [
       "(<PIL.Image.Image image mode=RGB size=32x32>, 1, 'automobile')"
      ]
     },
     "execution_count": 61,
     "metadata": {},
     "output_type": "execute_result"
    }
   ],
   "source": [
    "img, label = cifar10[99]\n",
    "img, label, class_names[label]"
   ]
  },
  {
   "cell_type": "code",
   "execution_count": 62,
   "metadata": {},
   "outputs": [
    {
     "data": {
      "image/png": "[encoded data removed]",
      "text/plain": [
       "<Figure size 640x480 with 1 Axes>"
      ]
     },
     "metadata": {},
     "output_type": "display_data"
    }
   ],
   "source": [
    "plt.imshow(img)\n",
    "plt.show()"
   ]
  },
  {
   "cell_type": "code",
   "execution_count": 63,
   "metadata": {},
   "outputs": [],
   "source": [
    "from torchvision import transforms\n",
    "#Import all of the possible transforms, including the transform which converts the image to a tensor"
   ]
  },
  {
   "cell_type": "code",
   "execution_count": 64,
   "metadata": {},
   "outputs": [
    {
     "data": {
      "text/plain": [
       "torch.Size([3, 32, 32])"
      ]
     },
     "execution_count": 64,
     "metadata": {},
     "output_type": "execute_result"
    }
   ],
   "source": [
    "to_tensor = transforms.ToTensor()\n",
    "img_t = to_tensor(img)\n",
    "img_t.shape #3 channels, 32x32 pixels"
   ]
  },
  {
   "cell_type": "code",
   "execution_count": 65,
   "metadata": {},
   "outputs": [],
   "source": [
    "tensor_cifar10 = datasets.CIFAR10(data_path, train=True, download=False, transform=transforms.ToTensor())"
   ]
  },
  {
   "cell_type": "code",
   "execution_count": 66,
   "metadata": {},
   "outputs": [
    {
     "data": {
      "text/plain": [
       "(torch.Tensor, tensor(0.), tensor(1.))"
      ]
     },
     "execution_count": 66,
     "metadata": {},
     "output_type": "execute_result"
    }
   ],
   "source": [
    "img_t, _ = tensor_cifar10[99]\n",
    "type(img_t), img_t.min(), img_t.max()"
   ]
  },
  {
   "cell_type": "code",
   "execution_count": 67,
   "metadata": {},
   "outputs": [
    {
     "data": {
      "image/png": "[encoded data removed]",
      "text/plain": [
       "<Figure size 640x480 with 1 Axes>"
      ]
     },
     "metadata": {},
     "output_type": "display_data"
    }
   ],
   "source": [
    "plt.imshow(img_t.permute(1, 2, 0)) #permute so that the colour channels are given by the final index\n",
    "plt.show()"
   ]
  },
  {
   "cell_type": "markdown",
   "metadata": {},
   "source": [
    "<p>Recall that, for functions such as the sigmoid, with nonzero gradients for arguments close to 0, it is in our interest to normalise our data so that it is centred at 1. This will increase the speed with which the network is trained on the data. We start by creating a stack in torch using all of the images in the dataset.</p>"
   ]
  },
  {
   "cell_type": "code",
   "execution_count": 68,
   "metadata": {},
   "outputs": [
    {
     "data": {
      "text/plain": [
       "torch.Size([3, 32, 32, 50000])"
      ]
     },
     "execution_count": 68,
     "metadata": {},
     "output_type": "execute_result"
    }
   ],
   "source": [
    "imgs = torch.stack([img for img, _ in tensor_cifar10], dim = 3) #Stack along a new dimension\n",
    "imgs.shape #3x32x32ximg_no"
   ]
  },
  {
   "cell_type": "code",
   "execution_count": 69,
   "metadata": {},
   "outputs": [
    {
     "data": {
      "text/plain": [
       "tensor([0.4914, 0.4822, 0.4465])"
      ]
     },
     "execution_count": 69,
     "metadata": {},
     "output_type": "execute_result"
    }
   ],
   "source": [
    "#Calculate the mean values of the RGB channels\n",
    "imgs.view(3, -1).mean(dim=1) #tells python that we want a 3*X tensor, where X will be found by python"
   ]
  },
  {
   "cell_type": "code",
   "execution_count": 70,
   "metadata": {},
   "outputs": [
    {
     "data": {
      "text/plain": [
       "tensor([0.2470, 0.2435, 0.2616])"
      ]
     },
     "execution_count": 70,
     "metadata": {},
     "output_type": "execute_result"
    }
   ],
   "source": [
    "#Calculate standard deviation\n",
    "imgs.view(3,-1).std(dim=1)"
   ]
  },
  {
   "cell_type": "code",
   "execution_count": 71,
   "metadata": {},
   "outputs": [
    {
     "data": {
      "text/plain": [
       "Normalize(mean=tensor([0.4914, 0.4822, 0.4465]), std=tensor([0.2470, 0.2435, 0.2616]))"
      ]
     },
     "execution_count": 71,
     "metadata": {},
     "output_type": "execute_result"
    }
   ],
   "source": [
    "transforms.Normalize(imgs.view(3,-1).mean(dim=1), imgs.view(3,-1).std(dim=1))"
   ]
  },
  {
   "cell_type": "code",
   "execution_count": 72,
   "metadata": {},
   "outputs": [],
   "source": [
    "#Apply transformation, where we now centre all of the colour channels on 0 with unit standard deviation\n",
    "transformed_cifar10 = datasets.CIFAR10(\n",
    "    root=data_path,\n",
    "    train=True,\n",
    "    download=False,\n",
    "    transform=transforms.Compose([\n",
    "        transforms.ToTensor(),\n",
    "        transforms.Normalize(imgs.view(3,-1).mean(dim=1), imgs.view(3,-1).std(dim=1))])\n",
    "    )"
   ]
  },
  {
   "cell_type": "code",
   "execution_count": 73,
   "metadata": {},
   "outputs": [
    {
     "name": "stderr",
     "output_type": "stream",
     "text": [
      "Clipping input data to the valid range for imshow with RGB data ([0..1] for floats or [0..255] for integers). Got range [-1.9802377..2.1267893].\n"
     ]
    },
    {
     "data": {
      "image/png": "[encoded data removed]",
      "text/plain": [
       "<Figure size 640x480 with 1 Axes>"
      ]
     },
     "metadata": {},
     "output_type": "display_data"
    }
   ],
   "source": [
    "img_t, _ = transformed_cifar10[99]\n",
    "\n",
    "plt.imshow(img_t.permute(1, 2, 0))\n",
    "plt.show() #Note that all negative RGB values will just be clipped and shown as black"
   ]
  },
  {
   "cell_type": "code",
   "execution_count": 74,
   "metadata": {},
   "outputs": [
    {
     "data": {
      "text/plain": [
       "['airplane',\n",
       " 'automobile',\n",
       " 'bird',\n",
       " 'cat',\n",
       " 'deer',\n",
       " 'dog',\n",
       " 'frog',\n",
       " 'horse',\n",
       " 'ship',\n",
       " 'truck']"
      ]
     },
     "execution_count": 74,
     "metadata": {},
     "output_type": "execute_result"
    }
   ],
   "source": [
    "class_names #airplane has index 0, bird has index 2"
   ]
  },
  {
   "cell_type": "code",
   "execution_count": 75,
   "metadata": {},
   "outputs": [],
   "source": [
    "label_map = {0:0, 2:1} #Maps airplane (index 0) to 0, and bird (index 2) to 1\n",
    "class_names = ['airplane', 'bird']\n",
    "#2 categories now- airplane and bird\n",
    "cifar2 = [(img, label_map[label]) for img, label in transformed_cifar10 if label in [0,2]] #training set\n",
    "cifar2_val = [(img, label_map[label]) for img, label in transformed_cifar10 if label in [0,2]] #validation set\n"
   ]
  },
  {
   "cell_type": "markdown",
   "metadata": {},
   "source": [
    "# Building the Neural Network #\n",
    "We know that each sample (i.e. each image) is going to have $3\\times32\\times32 =  3072$ inputs. So the first layer will be linear, with a first dimension of $3072$. We chose $512$ dimensions for our hidden layer, and our activation function will be tanh.\n"
   ]
  },
  {
   "cell_type": "code",
   "execution_count": 76,
   "metadata": {},
   "outputs": [],
   "source": [
    "import torch.nn as nn"
   ]
  },
  {
   "cell_type": "code",
   "execution_count": 77,
   "metadata": {},
   "outputs": [],
   "source": [
    "n_out = 2 #Number of output features- either a BIRD, or a PLANE\n",
    "#Categorical data, so cannot output a single floating-point value on a scale of bird to plane, as the distinction is binary\n",
    "\n",
    "#Constructing the neural network with the appropriate number of dimensions\n",
    "model = nn.Sequential(\n",
    "    nn.Linear(3072, 512), #Linear hidden layer taking the input data\n",
    "    nn.Tanh(), #Hidden layer activation function\n",
    "    nn.Linear(512, 2) #Output layer\n",
    ")"
   ]
  },
  {
   "cell_type": "markdown",
   "metadata": {},
   "source": [
    "# Softmax Function\n",
    "The softmax function is given by: $$\\frac{e^z}{\\sum_i{e^z_i}}$$\n",
    "\n",
    "It basically turns the entries of the tensor into a probability distribution (recall the partition function definition). In our case, we can interpret the use of the softmax function as the final activation function as giving us the possibilities that the picture is either of a bird or a plane. Given the output $[z_0, z_1]$ from the neural net, the final softmax activation function gives us:\n",
    "\n",
    "$$\n",
    "[\\frac{e^{z_0}}{e^{z_0} + e^{z_1}}, \\frac{e^{z_1}}{e^{z_0} + e^{z_1}}]\n",
    "$$\n",
    "\n",
    "so the first entry is the probability that it's a plane, and the second entry is the probability that it's a bird."
   ]
  },
  {
   "cell_type": "code",
   "execution_count": 78,
   "metadata": {},
   "outputs": [],
   "source": [
    "def softmax(x):\n",
    "    return torch.exp(x) / torch.exp(x).sum()"
   ]
  },
  {
   "cell_type": "code",
   "execution_count": 79,
   "metadata": {},
   "outputs": [
    {
     "data": {
      "text/plain": [
       "tensor([0.0900, 0.2447, 0.6652])"
      ]
     },
     "execution_count": 79,
     "metadata": {},
     "output_type": "execute_result"
    }
   ],
   "source": [
    "x = torch.tensor([1., 2. , 3.])\n",
    "softmax(x) #Performs the exponentiation on each of the elements and then divides by the sum of the exponentials"
   ]
  },
  {
   "cell_type": "code",
   "execution_count": 80,
   "metadata": {},
   "outputs": [
    {
     "data": {
      "text/plain": [
       "tensor(1.)"
      ]
     },
     "execution_count": 80,
     "metadata": {},
     "output_type": "execute_result"
    }
   ],
   "source": [
    "#Sanity check- the entries of the softmax tensor should sum to 1\n",
    "softmax(x).sum()"
   ]
  },
  {
   "cell_type": "code",
   "execution_count": 81,
   "metadata": {},
   "outputs": [
    {
     "data": {
      "text/plain": [
       "tensor([[0.0900, 0.2447, 0.6652],\n",
       "        [0.0900, 0.2447, 0.6652]])"
      ]
     },
     "execution_count": 81,
     "metadata": {},
     "output_type": "execute_result"
    }
   ],
   "source": [
    "softmax = nn.Softmax(dim=1)\n",
    "\n",
    "x = torch.tensor([\n",
    "    [1., 2., 3.],\n",
    "    [1., 2., 3.]\n",
    "])\n",
    "\n",
    "softmax(x)"
   ]
  },
  {
   "cell_type": "code",
   "execution_count": 82,
   "metadata": {},
   "outputs": [],
   "source": [
    "#Now, introducing the final softmax activation function\n",
    "model = nn.Sequential(\n",
    "    nn.Linear(3072, 512), #Linear hidden layer taking the input data\n",
    "    nn.Tanh(), #Hidden layer activation function\n",
    "    nn.Linear(512, 2), #Output layer\n",
    "    nn.Softmax(dim=1) #Final activation function to help us distinguish between bird and plane\n",
    ")"
   ]
  },
  {
   "cell_type": "code",
   "execution_count": 83,
   "metadata": {},
   "outputs": [
    {
     "name": "stderr",
     "output_type": "stream",
     "text": [
      "Clipping input data to the valid range for imshow with RGB data ([0..1] for floats or [0..255] for integers). Got range [-1.8622148..2.0301533].\n"
     ]
    },
    {
     "data": {
      "image/png": "[encoded data removed]",
      "text/plain": [
       "<Figure size 640x480 with 1 Axes>"
      ]
     },
     "metadata": {},
     "output_type": "display_data"
    }
   ],
   "source": [
    "img, _ = cifar2[0]\n",
    "plt.imshow(img.permute(1,2,0))\n",
    "plt.show() #Looks like a bird.. lol"
   ]
  },
  {
   "cell_type": "code",
   "execution_count": 84,
   "metadata": {},
   "outputs": [
    {
     "data": {
      "text/plain": [
       "torch.Size([1, 3072])"
      ]
     },
     "execution_count": 84,
     "metadata": {},
     "output_type": "execute_result"
    }
   ],
   "source": [
    "img_batch = img.view(-1).unsqueeze(0) #Take our 3x32x32 vector and make it 1D and then add a second dimension so that it fits the model\n",
    "img_batch.shape #Need this to be 1x3072 to match the first hidden layer- can't just be 3017"
   ]
  },
  {
   "cell_type": "code",
   "execution_count": 85,
   "metadata": {},
   "outputs": [
    {
     "data": {
      "text/plain": [
       "tensor([[0.4784, 0.5216]], grad_fn=<SoftmaxBackward0>)"
      ]
     },
     "execution_count": 85,
     "metadata": {},
     "output_type": "execute_result"
    }
   ],
   "source": [
    "out = model(img_batch)\n",
    "out #Model predicts it has a 57% chance of being a plane, and 43% chance of being a bird. But we haven't done any training (lololol)"
   ]
  },
  {
   "cell_type": "code",
   "execution_count": 86,
   "metadata": {},
   "outputs": [
    {
     "data": {
      "text/plain": [
       "tensor([1])"
      ]
     },
     "execution_count": 86,
     "metadata": {},
     "output_type": "execute_result"
    }
   ],
   "source": [
    "#does it say bird or airplane?\n",
    "_, index = torch.max(out, dim=1) #maximum along dimension1 \n",
    "\n",
    "index #guesses 0, i.e. thinks it's a plane :("
   ]
  },
  {
   "cell_type": "markdown",
   "metadata": {},
   "source": [
    "Basically, softmax gives us two probabilities- <code>out[0]</code> gives us the probability of the image being a plane, and <code>out[1]</code> gives the probability of it being a bird.\n",
    "\n",
    "We want a cost function that penalises incorrect guesses. We define the \"likelihood\"- that's the probability assigned by the network that the image is from the correct class. We want a large cost for low likelihood, and small cost for high likelihood.\n",
    "\n",
    "For this we can use the <b>negative log likelihood</b>.\n",
    "\n",
    "$$\n",
    "f_{NNL}(\\theta) = \\sum_{i=1}^{N}{\\text{log } p(y_i = t_i|x_i)}\n",
    "$$\n",
    "\n",
    "where we take the sum over N samples."
   ]
  },
  {
   "cell_type": "code",
   "execution_count": 87,
   "metadata": {},
   "outputs": [],
   "source": [
    "import numpy as np"
   ]
  },
  {
   "cell_type": "code",
   "execution_count": 88,
   "metadata": {},
   "outputs": [
    {
     "name": "stderr",
     "output_type": "stream",
     "text": [
      "/var/folders/j5/qqf885v16ps2h__10kf0m2th0000gn/T/ipykernel_14349/2486714267.py:2: RuntimeWarning: divide by zero encountered in log\n",
      "  y = -np.log(x)\n"
     ]
    },
    {
     "data": {
      "image/png": "[encoded data removed]",
      "text/plain": [
       "<Figure size 640x480 with 1 Axes>"
      ]
     },
     "metadata": {},
     "output_type": "display_data"
    }
   ],
   "source": [
    "x = np.arange(0, 1, 0.001) #probabilities ranging from 0 to 1\n",
    "y = -np.log(x)\n",
    "\n",
    "plt.xlabel('predicted likelihood of target class')\n",
    "plt.ylabel('NLL Loss')\n",
    "plt.ylim(0,3)\n",
    "plt.title('Negative Log Likelihood')\n",
    "plt.plot(x, y)\n",
    "plt.show()"
   ]
  },
  {
   "cell_type": "code",
   "execution_count": 89,
   "metadata": {},
   "outputs": [],
   "source": [
    "#Update our neural network in order to make calculations numerically stable\n",
    "model = nn.Sequential(\n",
    "    nn.Linear(3072, 512), #Linear hidden layer taking the input data\n",
    "    nn.Tanh(), #Hidden layer activation function\n",
    "    nn.Linear(512, 2), #Output layer\n",
    "    nn.LogSoftmax(dim=1) #Final activation function to help us distinguish between bird and plane\n",
    ")\n",
    "\n",
    "#Define NLL as our loss function\n",
    "loss_fn = nn.NLLLoss()"
   ]
  },
  {
   "cell_type": "code",
   "execution_count": 90,
   "metadata": {},
   "outputs": [
    {
     "data": {
      "text/plain": [
       "tensor(0.5079, grad_fn=<NllLossBackward0>)"
      ]
     },
     "execution_count": 90,
     "metadata": {},
     "output_type": "execute_result"
    }
   ],
   "source": [
    "img, label = cifar2[0] #The data is already labelled\n",
    "out = model(img.view(-1).unsqueeze(0))\n",
    "loss_fn(out, torch.tensor([label]))"
   ]
  },
  {
   "cell_type": "code",
   "execution_count": 91,
   "metadata": {},
   "outputs": [],
   "source": [
    "import torch.optim as optim"
   ]
  },
  {
   "cell_type": "code",
   "execution_count": 92,
   "metadata": {},
   "outputs": [],
   "source": [
    "learning_rate = 1e-2\n",
    "optimizer = optim.SGD(model.parameters(), lr=learning_rate)\n",
    "\n",
    "n_epochs = 100\n",
    "\n",
    "# for epoch in range(n_epochs):\n",
    "#     for img, label in cifar2:\n",
    "#         out = model(img.view(-1).unsqueeze(0))\n",
    "#         loss = loss_fn(out, torch.tensor([label]))\n",
    "\n",
    "#         optimizer.zero_grad()\n",
    "#         loss.backward()\n",
    "#         optimizer.step()\n",
    "    \n",
    "#     print(f'Epoch: {epoch+1}, Loss: {loss:.4f}')"
   ]
  },
  {
   "cell_type": "markdown",
   "metadata": {},
   "source": [
    "## Data Loader ##\n",
    "\n",
    "In Stochastic Gradient Descent (SDE), we randomly select subsamples of the data. This allows us to:\n",
    "<ul>\n",
    "<li>Save on computation time (we don't have to run over the whole dataset)</li>\n",
    "<li>Prevent being trapped in local minima- this will also let us use a smaller learning rate</li>\n",
    "<li>Slowly but surely converge on the global minimum (well, at least, in an ideal world)</li>\n",
    "</ul>"
   ]
  },
  {
   "cell_type": "code",
   "execution_count": 93,
   "metadata": {},
   "outputs": [],
   "source": [
    "train_loader = torch.utils.data.DataLoader(cifar2, batch_size=64, shuffle=True) #64 batches of image tensors, each having dim 3x32x32\n",
    "\n",
    "model = nn.Sequential(\n",
    "    nn.Linear(3072, 512), #First hidden layer- takes pixel data \n",
    "    nn.Tanh(), #First activation function for the first hidden layer\n",
    "    nn.Linear(512, 2), #Output layer\n",
    "    nn.LogSoftmax(dim=1) #Output activation function- softmax basically generates a probability distribution, remember.\n",
    ")\n",
    "\n",
    "#Initialise parameters for training\n",
    "learning_rate = 1e-2\n",
    "optimizer = optim.SGD(model.parameters(), lr=learning_rate)\n",
    "loss_fn = nn.NLLLoss()\n",
    "n_epochs = 100"
   ]
  },
  {
   "cell_type": "code",
   "execution_count": 94,
   "metadata": {},
   "outputs": [
    {
     "name": "stdout",
     "output_type": "stream",
     "text": [
      "Epoch: 1, Loss: 0.4084\n",
      "Epoch: 10, Loss: 0.3078\n",
      "Epoch: 20, Loss: 0.2268\n",
      "Epoch: 30, Loss: 0.0975\n",
      "Epoch: 40, Loss: 0.0522\n",
      "Epoch: 50, Loss: 0.1774\n",
      "Epoch: 60, Loss: 0.0733\n",
      "Epoch: 70, Loss: 0.0556\n",
      "Epoch: 80, Loss: 0.0352\n",
      "Epoch: 90, Loss: 0.0402\n",
      "Epoch: 100, Loss: 0.0099\n"
     ]
    }
   ],
   "source": [
    "for epoch in range(n_epochs):\n",
    "    for imgs, labels in train_loader: \n",
    "        batch_size=imgs.shape[0] #Take first dimension \n",
    "        outputs = model(imgs.view(batch_size, -1))\n",
    "        loss = loss_fn(outputs, labels)\n",
    "\n",
    "        optimizer.zero_grad() #Zero the gradients to prevent accumulation\n",
    "        loss.backward()\n",
    "        optimizer.step() #Perform optimization of parameters\n",
    "\n",
    "    if (epoch+1) % 10 == 0 or (epoch+1) == 1:\n",
    "        print(f\"Epoch: {epoch+1}, Loss: {loss:.4f}\")"
   ]
  },
  {
   "cell_type": "code",
   "execution_count": 95,
   "metadata": {},
   "outputs": [
    {
     "name": "stdout",
     "output_type": "stream",
     "text": [
      "Batch no: 1\n",
      "Predicted labels:  tensor([0, 0, 1, 0, 1, 1, 1, 0, 0, 0, 1, 0, 0, 0, 0, 1, 1, 0, 1, 0, 1, 0, 1, 0,\n",
      "        1, 0, 1, 1, 1, 1, 1, 1, 1, 0, 1, 1, 0, 1, 1, 1, 1, 1, 1, 0, 1, 0, 0, 0,\n",
      "        0, 0, 0, 0, 0, 0, 1, 0, 1, 0, 0, 1, 1, 1, 0, 0])\n",
      "True labels:  tensor([0, 0, 1, 0, 1, 1, 1, 0, 0, 0, 1, 0, 0, 0, 0, 1, 1, 0, 1, 0, 1, 0, 1, 0,\n",
      "        1, 0, 1, 1, 1, 1, 1, 1, 1, 0, 1, 1, 0, 1, 1, 1, 1, 1, 1, 0, 1, 0, 0, 0,\n",
      "        0, 0, 0, 0, 0, 0, 1, 0, 1, 0, 0, 1, 1, 1, 0, 0])\n",
      "Batch no: 50\n",
      "Predicted labels:  tensor([1, 0, 0, 1, 1, 0, 0, 1, 1, 1, 1, 1, 1, 0, 0, 1, 1, 0, 1, 1, 1, 0, 0, 0,\n",
      "        1, 0, 1, 0, 1, 1, 1, 1, 0, 1, 0, 0, 0, 1, 0, 1, 0, 1, 0, 1, 0, 1, 1, 0,\n",
      "        1, 0, 1, 1, 0, 0, 1, 1, 0, 0, 1, 1, 0, 1, 1, 0])\n",
      "True labels:  tensor([1, 0, 0, 1, 1, 0, 0, 1, 1, 1, 1, 1, 1, 0, 0, 1, 1, 0, 1, 1, 1, 0, 0, 0,\n",
      "        1, 0, 1, 0, 1, 1, 1, 1, 0, 1, 0, 0, 0, 1, 0, 1, 0, 1, 0, 1, 0, 1, 1, 0,\n",
      "        1, 0, 1, 1, 0, 0, 1, 1, 0, 0, 1, 1, 0, 1, 1, 0])\n",
      "Batch no: 100\n",
      "Predicted labels:  tensor([0, 0, 0, 1, 0, 1, 0, 1, 1, 0, 1, 1, 1, 0, 1, 1, 1, 0, 0, 0, 1, 1, 1, 1,\n",
      "        1, 1, 0, 1, 0, 0, 0, 0, 1, 1, 1, 1, 1, 1, 0, 0, 0, 1, 1, 0, 0, 1, 1, 0,\n",
      "        0, 0, 0, 1, 1, 0, 0, 1, 0, 0, 0, 0, 0, 0, 0, 1])\n",
      "True labels:  tensor([0, 0, 0, 1, 0, 1, 0, 1, 0, 0, 1, 1, 1, 0, 1, 1, 1, 0, 0, 0, 1, 1, 1, 1,\n",
      "        1, 1, 0, 1, 0, 0, 0, 0, 1, 1, 1, 1, 1, 1, 0, 0, 0, 1, 1, 0, 0, 1, 1, 0,\n",
      "        0, 0, 0, 1, 1, 0, 0, 1, 0, 0, 0, 0, 0, 0, 0, 1])\n",
      "Batch no: 150\n",
      "Predicted labels:  tensor([1, 0, 0, 1, 0, 1, 1, 1, 0, 0, 0, 1, 0, 0, 0, 1, 1, 0, 1, 1, 0, 0, 0, 1,\n",
      "        0, 0, 1, 0, 1, 1, 0, 1, 0, 1, 0, 0, 0, 0, 1, 0, 0, 0, 0, 0, 0, 1, 0, 1,\n",
      "        1, 0, 0, 1, 1, 0, 1, 0, 1, 0, 1, 0, 0, 0, 1, 1])\n",
      "True labels:  tensor([1, 0, 0, 1, 0, 1, 1, 1, 0, 0, 0, 1, 0, 0, 0, 1, 1, 0, 1, 1, 0, 0, 0, 1,\n",
      "        0, 0, 1, 0, 1, 1, 0, 1, 0, 1, 0, 0, 0, 0, 1, 0, 0, 0, 0, 0, 0, 1, 0, 1,\n",
      "        1, 0, 0, 1, 1, 0, 1, 0, 1, 0, 1, 0, 0, 0, 1, 1])\n",
      "Accuracy: 0.9995\n"
     ]
    }
   ],
   "source": [
    "#Now we have to perform tests using the validation set\n",
    "import torch.utils.data.dataloader\n",
    "\n",
    "val_loader = torch.utils.data.DataLoader(cifar2_val, batch_size=64, shuffle=True) #64 images in the validation batch, make sure we are shuffling\n",
    "\n",
    "correct = 0\n",
    "total = 0\n",
    "\n",
    "i=1\n",
    "\n",
    "for imgs, labels in val_loader:\n",
    "    \n",
    "    batch_size = imgs.shape[0]\n",
    "    outputs = model(imgs.view(batch_size, -1))\n",
    "    _, predicted = torch.max(outputs, dim=1) #look for the maximum probability assigned\n",
    "    total += labels.shape[0]\n",
    "    \n",
    "    if i == 1 or i % 50 == 0:\n",
    "        print(\"Batch no:\", i)\n",
    "        print(\"Predicted labels: \", predicted)\n",
    "        print(\"True labels: \", labels)\n",
    "    \n",
    "    for label, pred in zip(labels, predicted):\n",
    "        if label == pred:\n",
    "            correct += 1\n",
    "    \n",
    "    i+=1\n",
    "\n",
    "accuracy = correct / total\n",
    "print(f'Accuracy: {accuracy:.4f}')"
   ]
  },
  {
   "cell_type": "markdown",
   "metadata": {},
   "source": [
    "### What next? Increase the layer number!\n",
    "So, we have some accuracy on the predictions of labels given by our model. We do this by using a data loader to sort through the validation set, 64 images at a time, and comparing the image labels predicted by our model (i.e. \"bird\" or \"plane\"), and then compare these predicted labels one-by-one to the true labels. Very obviously, we increase the number of \"correct\" predictions by 1 every time this guess is correct.\n",
    "\n",
    "We can improve our model by giving it more time to \"taper\" between the input layer and the output- i.e., we can add more hidden layers.\n",
    "\n",
    "### Cross Entropy Loss\n",
    "We are currently using the <code>LogSoftMax</code> function as a final activation function, before passing to the <code>Negative Log Loss</code> loss function. We can wrap this whole process up into one step using <code>nn.CrossEntropyLoss</code>. To recap the two activation functions:\n",
    "\n",
    "$$\n",
    "\\text{Softmax}(z_i) = \\frac{e^{z_i}}{\\sum_i{e^{z_i}}}\n",
    "$$\n",
    "\n",
    "$$\n",
    "\\text{LogSoftmax}(z_i) = \\text{log }(\\frac{e^{z_i}}{\\sum_i{e^{z_i}}})\n",
    "$$\n",
    "\n",
    "where the clear interpretation of the output of Softmax's action on a tensor is to turn the tensor entries to values in a probability distribution.\n",
    "\n",
    "Now, the loss function:\n",
    "\n",
    "$$\n",
    "f_{\\text{NLL}}(\\theta) = -\\sum_i{\\text{log }(\\frac{e^{z_i}}{\\sum_j{e^{z_j}}})}\n",
    "$$\n",
    "\n",
    "which recalls the Gibb's formula for entropy:\n",
    "\n",
    "$$\n",
    "S = -\\sum_i{p_i \\text{log } p_i}\n",
    "$$\n",
    "\n",
    "So, by using the <code>nn.CrossEntropyLoss</code> function, we no longer have to explicitly add in the final <code>LogSoftmax</code> function."
   ]
  },
  {
   "cell_type": "code",
   "execution_count": 98,
   "metadata": {},
   "outputs": [],
   "source": [
    "model = nn.Sequential(\n",
    "    nn.Linear(3072, 1024),\n",
    "    nn.Tanh(),\n",
    "    nn.Linear(1024, 512),\n",
    "    nn.Tanh(),\n",
    "    nn.Linear(512, 128),\n",
    "    nn.Tanh(),\n",
    "    nn.Linear(128, 2)\n",
    ")\n",
    "\n",
    "#Use the cross-entropy loss function so that we don't need to bother with adding the softmax function to our network.\n",
    "loss_fn = nn.CrossEntropyLoss()"
   ]
  },
  {
   "cell_type": "code",
   "execution_count": 105,
   "metadata": {},
   "outputs": [
    {
     "name": "stdout",
     "output_type": "stream",
     "text": [
      "Number of parameters:  3737474\n"
     ]
    },
    {
     "data": {
      "text/plain": [
       "[3145728, 1024, 524288, 512, 65536, 128, 256, 2]"
      ]
     },
     "execution_count": 105,
     "metadata": {},
     "output_type": "execute_result"
    }
   ],
   "source": [
    "#Seeing how many tunable parameters are inside of our model\n",
    "\n",
    "numel_list = [p.numel() for p in model.parameters() if p.requires_grad == True] \n",
    "print('Number of parameters: ', sum(numel_list))\n",
    "numel_list"
   ]
  },
  {
   "cell_type": "markdown",
   "metadata": {},
   "source": [
    "### Translation invariance\n",
    "\n",
    "A fully-connected linear network is NOT translation invariant- our model will only learn to recognise an object properly if its location in terms of pixels remains unchanged. Obviously this is far from ideal. This will lead to our model falling victim to <b>OVERFITTING</b>.\n",
    "\n",
    "Ideally, we'd have some way of treating the image as it actually is- as 2D data. This is where Convolutional Neural Networks (CNNs) come into play."
   ]
  }
 ],
 "metadata": {
  "kernelspec": {
   "display_name": "Python 3",
   "language": "python",
   "name": "python3"
  },
  "language_info": {
   "codemirror_mode": {
    "name": "ipython",
    "version": 3
   },
   "file_extension": ".py",
   "mimetype": "text/x-python",
   "name": "python",
   "nbconvert_exporter": "python",
   "pygments_lexer": "ipython3",
   "version": "3.11.9"
  }
 },
 "nbformat": 4,
 "nbformat_minor": 2
}
