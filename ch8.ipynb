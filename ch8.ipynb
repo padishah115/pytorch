{
 "cells": [
  {
   "cell_type": "markdown",
   "metadata": {},
   "source": [
    "# Convolutional Neural Networks (CNNs)\n",
    "\n",
    "We want to process data (i.e. images) where the relative position of objects is relevant- we want the model to understand translational invariance, and also be able to discern features shared by neighbouring regions of the data (hard edges from dark/light contrast in the pixels, etc.)\n",
    "\n",
    "If we are looking at an image of a plane in the sky, we are more interested in the local pixels that make up the plane rather than features or objects at a large distance- thus, we want pixels far from the plane to be \"weighted\" much less somehow than the pixels within the plane and up to its edges. One way of doing this would be to have a <b>weight matrix with many entries set to zero</b>. But there is a better approach.\n",
    "\n",
    "# Convolution\n",
    "\n",
    "Basically, we perform piecewise multiplication over the image tensor using a smaller tensor- or <b>kernel</b>. A typical size for a small kernel tensor would be $3 \\times 3$. \n",
    "\n",
    "The operation of convolution essentially achieves what we would have by having weights equal to $0$ outside of the immediate region of the pixels.\n",
    "\n",
    "The weights inside of the kernel are not known at the beginning, but instead are parameters to be optimized during training. "
   ]
  },
  {
   "cell_type": "code",
   "execution_count": 18,
   "metadata": {},
   "outputs": [
    {
     "data": {
      "text/plain": [
       "<torch._C.Generator at 0x1216c7c30>"
      ]
     },
     "execution_count": 18,
     "metadata": {},
     "output_type": "execute_result"
    }
   ],
   "source": [
    "import torch\n",
    "import matplotlib.pyplot as plt\n",
    "\n",
    "import torch.nn as nn\n",
    "import torch.nn.functional as F\n",
    "import torch.optim as optim\n",
    "\n",
    "torch.manual_seed(123)"
   ]
  },
  {
   "cell_type": "code",
   "execution_count": 19,
   "metadata": {},
   "outputs": [],
   "source": [
    "#Class names\n",
    "class_names = ['airplane','automobile','bird','cat','deer',\n",
    "               'dog','frog','horse','ship','truck']"
   ]
  },
  {
   "cell_type": "code",
   "execution_count": 20,
   "metadata": {},
   "outputs": [
    {
     "name": "stdout",
     "output_type": "stream",
     "text": [
      "Files already downloaded and verified\n",
      "Files already downloaded and verified\n"
     ]
    }
   ],
   "source": [
    "from torchvision import datasets, transforms\n",
    "data_path = '../data-unversioned/p1ch7'\n",
    "\n",
    "#Initialise the training set\n",
    "cifar10 = datasets.CIFAR10(\n",
    "    root=data_path,\n",
    "    train=True,\n",
    "    download=True,\n",
    "    transform=transforms.Compose([\n",
    "        transforms.ToTensor(), #convert the images to tensors\n",
    "        transforms.Normalize((0.4915, 0.4823, 0.4468),\n",
    "                             (0.2470, 0.2435, 0.2616)) #normalise RGB values to have mean at 0 and with unit standard deviation\n",
    "    ])\n",
    ")\n",
    "\n",
    "#Initialise the validation set\n",
    "cifar10_val = datasets.CIFAR10(\n",
    "    root=data_path,\n",
    "    train=False,\n",
    "    download=True,\n",
    "    transform=transforms.Compose([\n",
    "        transforms.ToTensor(), #convert the images to tensors\n",
    "        transforms.Normalize((0.4915, 0.4823, 0.4468),\n",
    "                             (0.2470, 0.2435, 0.2616)) #normalise RGB values to have mean at 0 and with unit standard deviation\n",
    "    ])\n",
    ")"
   ]
  },
  {
   "cell_type": "code",
   "execution_count": 21,
   "metadata": {},
   "outputs": [],
   "source": [
    "label_map = {0:0, 2:1} #map airplane to 0th index in cifar 2, map bird to index 1\n",
    "\n",
    "#Extract the plane and bird images from cifar10 to create training and validation sets\n",
    "cifar2 = [(img, label_map[label]) for img, label in cifar10 if label == 0 or label == 2]\n",
    "cifar2_val = [(img, label_map[label]) for img, label in cifar10_val if label == 0 or label == 2]"
   ]
  },
  {
   "cell_type": "code",
   "execution_count": 22,
   "metadata": {},
   "outputs": [],
   "source": [
    "#Our new sequential model!\n",
    "\n",
    "connected_model = nn.Sequential(\n",
    "    nn.Linear(3072, 1024),\n",
    "    nn.Tanh(),\n",
    "    nn.Linear(1024, 512),\n",
    "    nn.Tanh(),\n",
    "    nn.Linear(512, 128),\n",
    "    nn.Tanh(),\n",
    "    nn.Linear(128, 2)\n",
    ")\n",
    "\n",
    "#Combination of the logsoftmax output and the NLL loss function\n",
    "loss_fn = nn.CrossEntropyLoss()"
   ]
  },
  {
   "cell_type": "code",
   "execution_count": 23,
   "metadata": {},
   "outputs": [
    {
     "data": {
      "text/plain": [
       "([3145728, 1024, 524288, 512, 65536, 128, 256, 2], 3737474)"
      ]
     },
     "execution_count": 23,
     "metadata": {},
     "output_type": "execute_result"
    }
   ],
   "source": [
    "#Make a list of all of the model's modifiable parameters\n",
    "numel_list = [p.numel() for p in connected_model.parameters() if p.requires_grad == True]\n",
    "numel_list, sum(numel_list)"
   ]
  },
  {
   "cell_type": "code",
   "execution_count": 24,
   "metadata": {},
   "outputs": [
    {
     "data": {
      "text/plain": [
       "(Conv2d(3, 16, kernel_size=(3, 3), stride=(1, 1)),\n",
       " torch.Size([16, 3, 3, 3]),\n",
       " torch.Size([16]))"
      ]
     },
     "execution_count": 24,
     "metadata": {},
     "output_type": "execute_result"
    }
   ],
   "source": [
    "conv = nn.Conv2d(3, 16, kernel_size=3)\n",
    "\n",
    "#Weight matrix is 16x3x3x3- outputs a 2d image with 3 colour channels to a 16-dimensional vector\n",
    "#This necessarily makes the bias vector have dimension 16\n",
    "conv, conv.weight.shape, conv.bias.shape"
   ]
  },
  {
   "cell_type": "code",
   "execution_count": 32,
   "metadata": {},
   "outputs": [
    {
     "data": {
      "text/plain": [
       "(torch.Size([1, 3, 32, 32]), torch.Size([1, 16, 30, 30]))"
      ]
     },
     "execution_count": 32,
     "metadata": {},
     "output_type": "execute_result"
    }
   ],
   "source": [
    "img, _ = cifar2[0]\n",
    "output = conv(img.unsqueeze(0)) #add extra dimension that indicates BATCH number\n",
    "img.unsqueeze(0).shape, output.shape"
   ]
  },
  {
   "cell_type": "code",
   "execution_count": 35,
   "metadata": {},
   "outputs": [
    {
     "data": {
      "image/png": "[encoded data removed]",
      "text/plain": [
       "<Figure size 640x480 with 1 Axes>"
      ]
     },
     "metadata": {},
     "output_type": "display_data"
    }
   ],
   "source": [
    "plt.imshow(output[0, 0].detach(), cmap='gray') #Select the image from batch 0, weight 0\n",
    "plt.show() #produces 30x30 image"
   ]
  },
  {
   "cell_type": "markdown",
   "metadata": {},
   "source": [
    "### Where did the other pixels go?\n",
    "The kernel slides around the image from left to right, producing $$(\\text{width}-\\text{kernel size} + 1)$$ horizontal and vertical positions positions. Here, $32 - 3 + 1 = 30$, hence the resulting $30 \\times 30$ dimensions.\n",
    "\n",
    "We can add <b>padding</b> in order to introduce fictitious $0$ pixels around the border of the image in order to preserve the original dimensions."
   ]
  },
  {
   "cell_type": "code",
   "execution_count": 37,
   "metadata": {},
   "outputs": [
    {
     "data": {
      "text/plain": [
       "(torch.Size([1, 3, 32, 32]), torch.Size([1, 16, 32, 32]))"
      ]
     },
     "execution_count": 37,
     "metadata": {},
     "output_type": "execute_result"
    }
   ],
   "source": [
    "conv = nn.Conv2d(3, 16, kernel_size=3, padding=1)\n",
    "\n",
    "output = conv(img.unsqueeze(0))\n",
    "img.unsqueeze(0).shape, output.shape #Now the dimensions should match, as we've added a border of 0 pixels around the edge of the img matrix."
   ]
  },
  {
   "cell_type": "code",
   "execution_count": 45,
   "metadata": {},
   "outputs": [],
   "source": [
    "#Set the initial kernel parameters by hand \n",
    "\n",
    "#With 0 bias, and with the weights all set to 1/9, we expect the convolution to simply blur the image.\n",
    "with torch.no_grad():\n",
    "    conv.bias.zero_()\n",
    "    conv.weight.fill_(1.0 / 9.0)"
   ]
  },
  {
   "cell_type": "code",
   "execution_count": 44,
   "metadata": {},
   "outputs": [
    {
     "data": {
      "image/png": "[encoded data removed]",
      "text/plain": [
       "<Figure size 640x480 with 1 Axes>"
      ]
     },
     "metadata": {},
     "output_type": "display_data"
    }
   ],
   "source": [
    "output = conv(img.unsqueeze(0))\n",
    "\n",
    "plt.imshow(output[0, 0].detach(), cmap='gray')\n",
    "plt.title('Convolution Output With Bias = 0, \\n Weight = 1/9 \\n (image blurred)')\n",
    "plt.show()"
   ]
  },
  {
   "cell_type": "markdown",
   "metadata": {},
   "source": [
    "### Edge-Detection Kernel\n",
    "We now use a kernel of the following form:\n",
    "\n",
    "$$ \\begin{bmatrix}\n",
    "-1.0 & 0.0 & 1.0 \\\\\n",
    "-1.0 & 0.0 & 1.0 \\\\\n",
    "-1.0 & 0.0 & 1.0 \n",
    "\\end{bmatrix}  $$\n",
    "\n",
    "which will return a <b>feature map</b> with large values when neighbouring pixels exhibit high contrast in their intensity (i.e. are at the edges of the image)."
   ]
  },
  {
   "cell_type": "code",
   "execution_count": 48,
   "metadata": {},
   "outputs": [],
   "source": [
    "conv = nn.Conv2d(3, 1, kernel_size=3, padding=1) #Three input channels, RGB, and one output (gray value)\n",
    "\n",
    "with torch.no_grad():\n",
    "    conv.weight[:] = torch.tensor([[-1.0, 0, 1.0], \n",
    "                                   [-1.0, 0, 1.0], \n",
    "                                   [-1.0, 0, 1.0]])\n",
    "    conv.bias.zero_()"
   ]
  },
  {
   "cell_type": "code",
   "execution_count": 50,
   "metadata": {},
   "outputs": [
    {
     "data": {
      "image/png": "[encoded data removed]",
      "text/plain": [
       "<Figure size 640x480 with 1 Axes>"
      ]
     },
     "metadata": {},
     "output_type": "display_data"
    }
   ],
   "source": [
    "output = conv(img.unsqueeze(0))\n",
    "\n",
    "plt.imshow(output[0,0].detach(), cmap='gray')\n",
    "plt.title('Edge-detection Kernel Output')\n",
    "plt.show()"
   ]
  }
 ],
 "metadata": {
  "kernelspec": {
   "display_name": "Python 3",
   "language": "python",
   "name": "python3"
  },
  "language_info": {
   "codemirror_mode": {
    "name": "ipython",
    "version": 3
   },
   "file_extension": ".py",
   "mimetype": "text/x-python",
   "name": "python",
   "nbconvert_exporter": "python",
   "pygments_lexer": "ipython3",
   "version": "3.11.9"
  }
 },
 "nbformat": 4,
 "nbformat_minor": 2
}
