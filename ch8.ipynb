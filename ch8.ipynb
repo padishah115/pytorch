{
 "cells": [
  {
   "cell_type": "markdown",
   "metadata": {},
   "source": [
    "# Convolutional Neural Networks (CNNs)\n",
    "\n",
    "We want to process data (i.e. images) where the relative position of objects is relevant- we want the model to understand translational invariance, and also be able to discern features shared by neighbouring regions of the data (hard edges from dark/light contrast in the pixels, etc.)\n",
    "\n",
    "If we are looking at an image of a plane in the sky, we are more interested in the local pixels that make up the plane rather than features or objects at a large distance- thus, we want pixels far from the plane to be \"weighted\" much less somehow than the pixels within the plane and up to its edges. One way of doing this would be to have a <b>weight matrix with many entries set to zero</b>. But there is a better approach.\n",
    "\n",
    "# Convolution\n",
    "\n",
    "Basically, we perform piecewise multiplication over the image tensor using a smaller tensor- or <b>kernel</b>. A typical size for a small kernel tensor would be $3 \\times 3$. \n",
    "\n",
    "The operation of convolution essentially achieves what we would have by having weights equal to $0$ outside of the immediate region of the pixels.\n",
    "\n",
    "The weights inside of the kernel are not known at the beginning, but instead are parameters to be optimized during training. "
   ]
  },
  {
   "cell_type": "code",
   "execution_count": 1,
   "metadata": {},
   "outputs": [
    {
     "data": {
      "text/plain": [
       "<torch._C.Generator at 0x10d94fbd0>"
      ]
     },
     "execution_count": 1,
     "metadata": {},
     "output_type": "execute_result"
    }
   ],
   "source": [
    "import torch\n",
    "import matplotlib.pyplot as plt\n",
    "\n",
    "import torch.nn as nn\n",
    "import torch.nn.functional as F\n",
    "import torch.optim as optim\n",
    "\n",
    "torch.manual_seed(123)"
   ]
  },
  {
   "cell_type": "code",
   "execution_count": 2,
   "metadata": {},
   "outputs": [],
   "source": [
    "#Class names\n",
    "class_names = ['airplane','automobile','bird','cat','deer',\n",
    "               'dog','frog','horse','ship','truck']"
   ]
  },
  {
   "cell_type": "code",
   "execution_count": 3,
   "metadata": {},
   "outputs": [
    {
     "name": "stdout",
     "output_type": "stream",
     "text": [
      "Files already downloaded and verified\n",
      "Files already downloaded and verified\n"
     ]
    }
   ],
   "source": [
    "from torchvision import datasets, transforms\n",
    "data_path = '../data-unversioned/p1ch7'\n",
    "\n",
    "#Initialise the training set\n",
    "cifar10 = datasets.CIFAR10(\n",
    "    root=data_path,\n",
    "    train=True,\n",
    "    download=True,\n",
    "    transform=transforms.Compose([\n",
    "        transforms.ToTensor(), #convert the images to tensors\n",
    "        transforms.Normalize((0.4915, 0.4823, 0.4468),\n",
    "                             (0.2470, 0.2435, 0.2616)) #normalise RGB values to have mean at 0 and with unit standard deviation\n",
    "    ])\n",
    ")\n",
    "\n",
    "#Initialise the validation set\n",
    "cifar10_val = datasets.CIFAR10(\n",
    "    root=data_path,\n",
    "    train=False,\n",
    "    download=True,\n",
    "    transform=transforms.Compose([\n",
    "        transforms.ToTensor(), #convert the images to tensors\n",
    "        transforms.Normalize((0.4915, 0.4823, 0.4468),\n",
    "                             (0.2470, 0.2435, 0.2616)) #normalise RGB values to have mean at 0 and with unit standard deviation\n",
    "    ])\n",
    ")"
   ]
  },
  {
   "cell_type": "code",
   "execution_count": 4,
   "metadata": {},
   "outputs": [],
   "source": [
    "label_map = {0:0, 2:1} #map airplane to 0th index in cifar 2, map bird to index 1\n",
    "\n",
    "#Extract the plane and bird images from cifar10 to create training and validation sets\n",
    "cifar2 = [(img, label_map[label]) for img, label in cifar10 if label == 0 or label == 2]\n",
    "cifar2_val = [(img, label_map[label]) for img, label in cifar10_val if label == 0 or label == 2]"
   ]
  },
  {
   "cell_type": "code",
   "execution_count": 5,
   "metadata": {},
   "outputs": [],
   "source": [
    "#Our new sequential model!\n",
    "\n",
    "connected_model = nn.Sequential(\n",
    "    nn.Linear(3072, 1024),\n",
    "    nn.Tanh(),\n",
    "    nn.Linear(1024, 512),\n",
    "    nn.Tanh(),\n",
    "    nn.Linear(512, 128),\n",
    "    nn.Tanh(),\n",
    "    nn.Linear(128, 2)\n",
    ")\n",
    "\n",
    "#Combination of the logsoftmax output and the NLL loss function\n",
    "loss_fn = nn.CrossEntropyLoss()"
   ]
  },
  {
   "cell_type": "code",
   "execution_count": 6,
   "metadata": {},
   "outputs": [
    {
     "data": {
      "text/plain": [
       "([3145728, 1024, 524288, 512, 65536, 128, 256, 2], 3737474)"
      ]
     },
     "execution_count": 6,
     "metadata": {},
     "output_type": "execute_result"
    }
   ],
   "source": [
    "#Make a list of all of the model's modifiable parameters\n",
    "numel_list = [p.numel() for p in connected_model.parameters() if p.requires_grad == True]\n",
    "numel_list, sum(numel_list)"
   ]
  },
  {
   "cell_type": "code",
   "execution_count": 7,
   "metadata": {},
   "outputs": [
    {
     "data": {
      "text/plain": [
       "(Conv2d(3, 16, kernel_size=(3, 3), stride=(1, 1)),\n",
       " torch.Size([16, 3, 3, 3]),\n",
       " torch.Size([16]))"
      ]
     },
     "execution_count": 7,
     "metadata": {},
     "output_type": "execute_result"
    }
   ],
   "source": [
    "conv = nn.Conv2d(3, 16, kernel_size=3)\n",
    "\n",
    "#Weight matrix is 16x3x3x3- outputs a 2d image with 3 colour channels to a 16-dimensional vector\n",
    "#This necessarily makes the bias vector have dimension 16\n",
    "conv, conv.weight.shape, conv.bias.shape"
   ]
  },
  {
   "cell_type": "code",
   "execution_count": 8,
   "metadata": {},
   "outputs": [
    {
     "data": {
      "text/plain": [
       "(torch.Size([1, 3, 32, 32]), torch.Size([1, 16, 30, 30]))"
      ]
     },
     "execution_count": 8,
     "metadata": {},
     "output_type": "execute_result"
    }
   ],
   "source": [
    "img, _ = cifar2[0]\n",
    "output = conv(img.unsqueeze(0)) #add extra dimension that indicates BATCH number\n",
    "img.unsqueeze(0).shape, output.shape"
   ]
  },
  {
   "cell_type": "code",
   "execution_count": 9,
   "metadata": {},
   "outputs": [
    {
     "data": {
      "image/png": "[encoded data removed]",
      "text/plain": [
       "<Figure size 640x480 with 1 Axes>"
      ]
     },
     "metadata": {},
     "output_type": "display_data"
    }
   ],
   "source": [
    "plt.imshow(output[0, 0].detach(), cmap='gray') #Select the image from batch 0, weight 0\n",
    "plt.show() #produces 30x30 image"
   ]
  },
  {
   "cell_type": "markdown",
   "metadata": {},
   "source": [
    "### Where did the other pixels go?\n",
    "The kernel slides around the image from left to right, producing $$(\\text{width}-\\text{kernel size} + 1)$$ horizontal and vertical positions positions. Here, $32 - 3 + 1 = 30$, hence the resulting $30 \\times 30$ dimensions.\n",
    "\n",
    "We can add <b>padding</b> in order to introduce fictitious $0$ pixels around the border of the image in order to preserve the original dimensions."
   ]
  },
  {
   "cell_type": "code",
   "execution_count": 10,
   "metadata": {},
   "outputs": [
    {
     "data": {
      "text/plain": [
       "(torch.Size([1, 3, 32, 32]), torch.Size([1, 16, 32, 32]))"
      ]
     },
     "execution_count": 10,
     "metadata": {},
     "output_type": "execute_result"
    }
   ],
   "source": [
    "conv = nn.Conv2d(3, 16, kernel_size=3, padding=1)\n",
    "\n",
    "output = conv(img.unsqueeze(0))\n",
    "img.unsqueeze(0).shape, output.shape #Now the dimensions should match, as we've added a border of 0 pixels around the edge of the img matrix."
   ]
  },
  {
   "cell_type": "code",
   "execution_count": 11,
   "metadata": {},
   "outputs": [],
   "source": [
    "#Set the initial kernel parameters by hand \n",
    "\n",
    "#With 0 bias, and with the weights all set to 1/9, we expect the convolution to simply blur the image.\n",
    "with torch.no_grad():\n",
    "    conv.bias.zero_()\n",
    "    conv.weight.fill_(1.0 / 9.0)"
   ]
  },
  {
   "cell_type": "code",
   "execution_count": 12,
   "metadata": {},
   "outputs": [
    {
     "data": {
      "image/png": "[encoded data removed]",
      "text/plain": [
       "<Figure size 640x480 with 1 Axes>"
      ]
     },
     "metadata": {},
     "output_type": "display_data"
    }
   ],
   "source": [
    "output = conv(img.unsqueeze(0))\n",
    "\n",
    "plt.imshow(output[0, 0].detach(), cmap='gray')\n",
    "plt.title('Convolution Output With Bias = 0, \\n Weight = 1/9 \\n (image blurred)')\n",
    "plt.show()"
   ]
  },
  {
   "cell_type": "markdown",
   "metadata": {},
   "source": [
    "### Edge-Detection Kernel\n",
    "We now use a kernel of the following form:\n",
    "\n",
    "$$ \\begin{bmatrix}\n",
    "-1.0 & 0.0 & 1.0 \\\\\n",
    "-1.0 & 0.0 & 1.0 \\\\\n",
    "-1.0 & 0.0 & 1.0 \n",
    "\\end{bmatrix}  $$\n",
    "\n",
    "which will return a <b>feature map</b> with large values when neighbouring pixels exhibit high contrast in their intensity (i.e. are at the edges of the image)."
   ]
  },
  {
   "cell_type": "code",
   "execution_count": 13,
   "metadata": {},
   "outputs": [],
   "source": [
    "conv = nn.Conv2d(3, 1, kernel_size=3, padding=1) #Three input channels, RGB, and one output (gray value)\n",
    "\n",
    "with torch.no_grad():\n",
    "    conv.weight[:] = torch.tensor([[-1.0, 0, 1.0], \n",
    "                                   [-1.0, 0, 1.0], \n",
    "                                   [-1.0, 0, 1.0]])\n",
    "    conv.bias.zero_()"
   ]
  },
  {
   "cell_type": "code",
   "execution_count": 14,
   "metadata": {},
   "outputs": [
    {
     "data": {
      "image/png": "[encoded data removed]",
      "text/plain": [
       "<Figure size 640x480 with 1 Axes>"
      ]
     },
     "metadata": {},
     "output_type": "display_data"
    }
   ],
   "source": [
    "output = conv(img.unsqueeze(0))\n",
    "\n",
    "plt.imshow(output[0,0].detach(), cmap='gray')\n",
    "plt.title('Edge-detection Kernel Output')\n",
    "plt.savefig('edge_detection.png')\n",
    "plt.show()\n"
   ]
  },
  {
   "cell_type": "code",
   "execution_count": 15,
   "metadata": {},
   "outputs": [
    {
     "data": {
      "image/png": "[encoded data removed]",
      "text/plain": [
       "<Figure size 640x480 with 1 Axes>"
      ]
     },
     "metadata": {},
     "output_type": "display_data"
    }
   ],
   "source": [
    "plt.imshow(img.mean(0), cmap='gray')\n",
    "plt.savefig('blurry_bird.png')"
   ]
  },
  {
   "cell_type": "markdown",
   "metadata": {},
   "source": [
    "## Downsampling\n",
    "We want our neural network to realise that adjacent pixels are correlated (e.g. are able to identify wings). But the finite kernel size will limit the area over which our model takes correlation into account. If we use <b>too large</b> a kernel, then we return to the previous problem where we lose translational invariance- for example, if we use a kernel with dimensions equal to that of the image. So we introduce <b>downsampling</b>.\n",
    "\n",
    "Scaling down the image by half is equal to reducing the pixel number by a factor of $2 \\times 2 = 4$. So, for an input of 4 pixels, we want a single pixel as an output.\n",
    "\n",
    "#### Downsampling Methods\n",
    "<ul>\n",
    "<li><b>Averaging</b> over the four pixels;</li>\n",
    "<li>Taking the max value of the four pixels (<b>max pooling</b>)- note that stride is set to the kernel dimensions;</li>\n",
    "<li><b>Strided convolution</b>.</li>\n",
    "</ul>"
   ]
  },
  {
   "cell_type": "code",
   "execution_count": 16,
   "metadata": {},
   "outputs": [
    {
     "data": {
      "text/plain": [
       "(torch.Size([1, 3, 32, 32]), torch.Size([1, 3, 16, 16]))"
      ]
     },
     "execution_count": 16,
     "metadata": {},
     "output_type": "execute_result"
    }
   ],
   "source": [
    "pool = nn.MaxPool2d(2) #max pooling using a kernel size of 2x2- i.e. takes 4 pixels and returns 1\n",
    "output = pool(img.unsqueeze(0))\n",
    "\n",
    "img.unsqueeze(0).shape, output.shape #expecting to reduce image dimensions by half"
   ]
  },
  {
   "cell_type": "code",
   "execution_count": 17,
   "metadata": {},
   "outputs": [
    {
     "data": {
      "image/png": "[encoded data removed]",
      "text/plain": [
       "<Figure size 640x480 with 1 Axes>"
      ]
     },
     "metadata": {},
     "output_type": "display_data"
    }
   ],
   "source": [
    "plt.imshow(output[0,0].detach(), cmap='gray')\n",
    "plt.title('Max Pool Output for 2x2 Kernel')\n",
    "plt.show()"
   ]
  },
  {
   "cell_type": "markdown",
   "metadata": {},
   "source": [
    "## Revised Network\n",
    "Now, with max-pooling in play, we have a final revised network. In summary, we want:\n",
    "\n",
    "A <b>first hidden layer</b>, taking $3$ input channels (RGB) and from that giving us 16 input features. Hopefully this is enough to distinguish between the two classes of image. So the weight matrix, $W$, will have dimensions $16 \\times 3 \\times (3 \\times 3)$. The $16$ dimension comes from the number of features- <b>this is the number of \"filters\"</b>. For each of the $3$ colour channels, we have a $3 \\times 3$ kernel matrix. The output of this layer is a tensor of dimensions $16 \\times 32 \\times 32$ (we have replaced the first dimension, length $3$, with one of length $16$, and the convolution is used with padding). We then use a <b>tanh activation function</b>.\n",
    "\n",
    "A <b>second hidden layer</b>, which uses <b>max-pooling</b>, with <b>padding set to 1</b>, generating a <i>feature map</i> of the first layer output, reducing the image dimensions to $16 \\times 16$, and then takes <b>another convolution</b> of this feature map. We then use a <b>tanh activation function</b>.\n",
    "\n",
    "A <b>third hidden layer</b>, which does another round of max-pooling. Now, the images are down to an $8 \\times 8$ feature map.\n",
    "\n",
    "In short:\n",
    "<ul>\n",
    "<li>Max-pooling reduces the dimensions by a factor of 2, producing increasingly small feature maps.</li>\n",
    "<li>Convolution keeps track of the relationships between adjacent pixels in each feature map. The use of padding set to 1 preserves the dimensions of each of these feature maps.</li>\n",
    "</ul>"
   ]
  },
  {
   "cell_type": "code",
   "execution_count": 18,
   "metadata": {},
   "outputs": [
    {
     "data": {
      "text/plain": [
       "(18090, [432, 16, 1152, 8, 16384, 32, 64, 2])"
      ]
     },
     "execution_count": 18,
     "metadata": {},
     "output_type": "execute_result"
    }
   ],
   "source": [
    "model = nn.Sequential(\n",
    "    nn.Conv2d(3, 16, kernel_size=3, padding=1), #Maps 3 colour channels to 16 features\n",
    "    nn.Tanh(),\n",
    "    nn.MaxPool2d(2), #max-pooling using 2x2 kernel, which reduces the map's dimensions by factor of 2\n",
    "    nn.Conv2d(16, 8, kernel_size=3, padding = 1), #downsample to 16 feature maps.\n",
    "    nn.Tanh(),\n",
    "    nn.MaxPool2d(2), #Now we have 8 features, and each feature has an activation map of dimensions 8x8- 8x8x8 output\n",
    "    \n",
    "    #Need to here flatten the 8x8x8 tensor into a vector of length 8*8*8= 512- but where is the output??\n",
    "\n",
    "    #First fully-connected layer\n",
    "    nn.Linear(8*8*8, 32), #turn into one vector of length 32\n",
    "    nn.Tanh(),\n",
    "    nn.Linear(32, 2) #Output a 2-dimensional vector encoding probability of being a bird/plane\n",
    ")\n",
    "\n",
    "numel_list = [p.numel() for p in model.parameters()]\n",
    "sum(numel_list), numel_list"
   ]
  },
  {
   "cell_type": "markdown",
   "metadata": {},
   "source": [
    "#### Subclassing\n",
    "How do we get the output of different layers in the network while it is live? We need to do so in order to, for example, flatten the tensor that we get out of the second MaxPool in the above network, but at the moment we can't just call the output of each layer before running each net. That's where the <code>nn.Module</code> comes into play."
   ]
  },
  {
   "cell_type": "code",
   "execution_count": 19,
   "metadata": {},
   "outputs": [],
   "source": [
    "#New paradigm: have all the layers as functions of the class, and then call them in the \"forward\" function\n",
    "\n",
    "class Net(nn.Module):\n",
    "    def __init__(self):\n",
    "        super().__init__() #call the init method of the parent class\n",
    "        self.conv1 = nn.Conv2d(3, 16, kernel_size=3, padding=1)\n",
    "        self.act1 = nn.Tanh()\n",
    "        self.pool1 = nn.MaxPool2d(2)\n",
    "        self.conv2 = nn.Conv2d(16, 8, kernel_size=3, padding = 1) \n",
    "        self.act2 = nn.Tanh()\n",
    "        self.pool2 = nn.MaxPool2d(2)\n",
    "        #unsqueeze into 512-long tensor\n",
    "        self.fc1 = nn.Linear(512, 32)\n",
    "        self.act3 = nn.Tanh()\n",
    "        self.fc2 = nn.Linear(32, 2) #fc = fully-connected\n",
    "\n",
    "    def forward(self, x):\n",
    "        out = self.pool1(self.act1(self.conv1(x)))\n",
    "        out = self.pool2(self.act2(self.conv2(out)))\n",
    "        out = out.view(-1, 512) #give us 512 columns and some unknown number of columns\n",
    "        out = self.act3(self.fc1(out))\n",
    "        out = self.fc2(out)\n",
    "        return out\n",
    "            "
   ]
  },
  {
   "cell_type": "code",
   "execution_count": 20,
   "metadata": {},
   "outputs": [
    {
     "data": {
      "text/plain": [
       "tensor([[0.0908, 0.0938]], grad_fn=<AddmmBackward0>)"
      ]
     },
     "execution_count": 20,
     "metadata": {},
     "output_type": "execute_result"
    }
   ],
   "source": [
    "torch.manual_seed(123)\n",
    "model = Net()\n",
    "\n",
    "out = model.forward(img.unsqueeze(0))\n",
    "\n",
    "out"
   ]
  },
  {
   "cell_type": "code",
   "execution_count": 21,
   "metadata": {},
   "outputs": [],
   "source": [
    "#Using the nn.functional module\n",
    "#New paradigm: have all the layers as functions of the class, and then call them in the \"forward\" function\n",
    "\n",
    "class Net(nn.Module):\n",
    "    def __init__(self):\n",
    "        super().__init__() #call the init method of the parent class\n",
    "        self.conv1 = nn.Conv2d(3, 16, kernel_size=3, padding=1)\n",
    "        self.conv2 = nn.Conv2d(16, 8, kernel_size=3, padding = 1) \n",
    "        #unsqueeze into 512-long tensor\n",
    "        self.fc1 = nn.Linear(512, 32)\n",
    "        self.fc2 = nn.Linear(32, 2) #fc = fully-connected\n",
    "\n",
    "    def forward(self, x):\n",
    "        out = F.max_pool2d(torch.tanh(self.conv1(x)), 2)\n",
    "        out = F.max_pool2d(torch.tanh(self.conv2(out)), 2)\n",
    "        out = out.view(-1, 512) #give us 512 columns and some unknown number of columns\n",
    "        out = torch.tanh(self.fc1(out))\n",
    "        out = self.fc2(out)\n",
    "        return out\n",
    "            "
   ]
  },
  {
   "cell_type": "code",
   "execution_count": 22,
   "metadata": {},
   "outputs": [
    {
     "data": {
      "text/plain": [
       "tensor([[0.0908, 0.0938]], grad_fn=<AddmmBackward0>)"
      ]
     },
     "execution_count": 22,
     "metadata": {},
     "output_type": "execute_result"
    }
   ],
   "source": [
    "torch.manual_seed(123)\n",
    "model = Net()\n",
    "\n",
    "out = model(img.unsqueeze(0))\n",
    "\n",
    "out"
   ]
  },
  {
   "cell_type": "code",
   "execution_count": 23,
   "metadata": {},
   "outputs": [],
   "source": [
    "def training_loop(n_epochs:int, optimizer:optim.Optimizer, loss_fn, train_loader):\n",
    "    for _ in range(1, n_epochs + 1):\n",
    "        loss_train = 0.0\n",
    "        for imgs, labels in train_loader:\n",
    "            outputs = model(imgs)\n",
    "\n",
    "            loss = loss_fn(outputs, labels)\n",
    "\n",
    "            optimizer.zero_grad()\n",
    "            loss.backward()\n",
    "            optimizer.step()\n",
    "\n",
    "            loss_train += loss.item()\n",
    "\n",
    "        if _ == 1 or _ % 10 == 0:\n",
    "            print(f'Epoch: {_}, Average loss in batch: {loss_train/len(train_loader)}')"
   ]
  },
  {
   "cell_type": "code",
   "execution_count": 24,
   "metadata": {},
   "outputs": [
    {
     "name": "stdout",
     "output_type": "stream",
     "text": [
      "Epoch: 1, Average loss in batch:0.5606662872110962\n",
      "Epoch: 10, Average loss in batch:0.33586478584511265\n",
      "Epoch: 20, Average loss in batch:0.29890418669600394\n",
      "Epoch: 30, Average loss in batch:0.27424065393816893\n",
      "Epoch: 40, Average loss in batch:0.24808122991186798\n",
      "Epoch: 50, Average loss in batch:0.22801073512453943\n",
      "Epoch: 60, Average loss in batch:0.20554896837966458\n",
      "Epoch: 70, Average loss in batch:0.19003457542817304\n",
      "Epoch: 80, Average loss in batch:0.17482441924749667\n",
      "Epoch: 90, Average loss in batch:0.16061825253021944\n",
      "Epoch: 100, Average loss in batch:0.14880908892792502\n"
     ]
    }
   ],
   "source": [
    "model = Net()\n",
    "optimizer = optim.SGD(model.parameters(), lr=1e-2)\n",
    "loss_fn = nn.CrossEntropyLoss()\n",
    "train_loader = torch.utils.data.DataLoader(cifar2, batch_size=64, shuffle=True)\n",
    "\n",
    "# training_loop(\n",
    "#     n_epochs=100,\n",
    "#     optimizer=optimizer,\n",
    "#     loss_fn=loss_fn,\n",
    "#     train_loader=train_loader\n",
    "# )"
   ]
  },
  {
   "cell_type": "code",
   "execution_count": 31,
   "metadata": {},
   "outputs": [],
   "source": [
    "train_loader = torch.utils.data.DataLoader(cifar2, batch_size=64, shuffle=False) \n",
    "val_loader = torch.utils.data.DataLoader(cifar2_val, batch_size=64, shuffle=False) \n",
    "\n",
    "def validate(model, train_loader, val_loader):\n",
    "    for name, loader in [(\"train\", train_loader), (\"val\", val_loader)]:\n",
    "        correct = 0\n",
    "        total = 0\n",
    "\n",
    "        with torch.no_grad():\n",
    "            for imgs, labels in loader:\n",
    "                outputs = model(imgs)\n",
    "                _, predicted = torch.max(outputs, dim=1) #gives us index and predicted value for that index\n",
    "                total += imgs.shape[0]\n",
    "                correct += int((predicted==labels).sum())\n",
    "    \n",
    "        print(f\"Accuracy {name}: {correct/total:.2f}\")"
   ]
  },
  {
   "cell_type": "code",
   "execution_count": 32,
   "metadata": {},
   "outputs": [
    {
     "name": "stdout",
     "output_type": "stream",
     "text": [
      "Accuracy train: 0.95\n",
      "Accuracy val: 0.89\n"
     ]
    }
   ],
   "source": [
    "validate(model=model, train_loader=train_loader, val_loader=val_loader)"
   ]
  },
  {
   "cell_type": "code",
   "execution_count": 27,
   "metadata": {},
   "outputs": [],
   "source": [
    "#save the model\n",
    "#torch.save(model.state_dict(), data_path + 'birds_vs_airplanes.pt')"
   ]
  },
  {
   "cell_type": "code",
   "execution_count": 28,
   "metadata": {},
   "outputs": [
    {
     "name": "stderr",
     "output_type": "stream",
     "text": [
      "/var/folders/j5/qqf885v16ps2h__10kf0m2th0000gn/T/ipykernel_73610/398628253.py:2: FutureWarning: You are using `torch.load` with `weights_only=False` (the current default value), which uses the default pickle module implicitly. It is possible to construct malicious pickle data which will execute arbitrary code during unpickling (See https://github.com/pytorch/pytorch/blob/main/SECURITY.md#untrusted-models for more details). In a future release, the default value for `weights_only` will be flipped to `True`. This limits the functions that could be executed during unpickling. Arbitrary objects will no longer be allowed to be loaded via this mode unless they are explicitly allowlisted by the user via `torch.serialization.add_safe_globals`. We recommend you start setting `weights_only=True` for any use case where you don't have full control of the loaded file. Please open an issue on GitHub for any issues related to this experimental feature.\n",
      "  loaded_model.load_state_dict(torch.load(data_path + 'birds_vs_airplanes.pt'))\n"
     ]
    },
    {
     "data": {
      "text/plain": [
       "<All keys matched successfully>"
      ]
     },
     "execution_count": 28,
     "metadata": {},
     "output_type": "execute_result"
    }
   ],
   "source": [
    "loaded_model = Net()\n",
    "loaded_model.load_state_dict(torch.load(data_path + 'birds_vs_airplanes.pt'))"
   ]
  },
  {
   "cell_type": "markdown",
   "metadata": {},
   "source": [
    "### Regularisation\n",
    "Regularisation penalises large values of the weights. L2 is the sum of the squares, L1 is the sum of the absolute magnitudes."
   ]
  },
  {
   "cell_type": "code",
   "execution_count": 38,
   "metadata": {},
   "outputs": [],
   "source": [
    "model = Net()\n",
    "optimizer = optim.SGD(model.parameters(), lr=1e-2)"
   ]
  },
  {
   "cell_type": "code",
   "execution_count": 34,
   "metadata": {},
   "outputs": [],
   "source": [
    "#L2 normalisation loop\n",
    "\n",
    "def training_loop(n_epochs:int, optimizer:optim.Optimizer, loss_fn, train_loader):\n",
    "    for _ in range(1, n_epochs + 1):\n",
    "        loss_train = 0.0\n",
    "        for imgs, labels in train_loader:\n",
    "            outputs = model(imgs)\n",
    "            loss = loss_fn(outputs, labels)\n",
    "\n",
    "            #Include L2 normalisation by penalising the sum of the squares of the weights.\n",
    "            l2_lambda = 0.001 #hyperparameter- WEIGHT DECAY\n",
    "            l2_norm = sum(p.pow(2.0).sum() for p in model.parameters())\n",
    "            loss = loss + l2_lambda * l2_norm\n",
    "\n",
    "            optimizer.zero_grad()\n",
    "            loss.backward()\n",
    "            optimizer.step()\n",
    "\n",
    "            loss_train += loss.item()\n",
    "\n",
    "        if _ == 1 or _ % 10 == 0:\n",
    "            print(f'Epoch: {_}, Average loss in batch:{loss_train/len(train_loader)}')"
   ]
  },
  {
   "cell_type": "code",
   "execution_count": 39,
   "metadata": {},
   "outputs": [
    {
     "name": "stdout",
     "output_type": "stream",
     "text": [
      "Epoch: 1, Average loss in batch:0.6007977071081757\n",
      "Epoch: 10, Average loss in batch:0.3564192237937526\n",
      "Epoch: 20, Average loss in batch:0.3215361787065579\n",
      "Epoch: 30, Average loss in batch:0.2987819999266582\n",
      "Epoch: 40, Average loss in batch:0.27975337976103376\n",
      "Epoch: 50, Average loss in batch:0.26426563046540424\n",
      "Epoch: 60, Average loss in batch:0.2513378332754609\n",
      "Epoch: 70, Average loss in batch:0.24031758170788456\n",
      "Epoch: 80, Average loss in batch:0.23060923824264745\n",
      "Epoch: 90, Average loss in batch:0.22179390651405237\n",
      "Epoch: 100, Average loss in batch:0.21341491063499146\n"
     ]
    }
   ],
   "source": [
    "training_loop(\n",
    "    n_epochs=100,\n",
    "    optimizer=optimizer,\n",
    "    loss_fn=loss_fn,\n",
    "    train_loader=train_loader\n",
    ")"
   ]
  },
  {
   "cell_type": "markdown",
   "metadata": {},
   "source": [
    "## Implementing Dropout"
   ]
  },
  {
   "cell_type": "code",
   "execution_count": null,
   "metadata": {},
   "outputs": [],
   "source": [
    "class NetDropout(nn.Module):\n",
    "    def __init__(self, n_chans1=32):\n"
   ]
  }
 ],
 "metadata": {
  "kernelspec": {
   "display_name": "Python 3",
   "language": "python",
   "name": "python3"
  },
  "language_info": {
   "codemirror_mode": {
    "name": "ipython",
    "version": 3
   },
   "file_extension": ".py",
   "mimetype": "text/x-python",
   "name": "python",
   "nbconvert_exporter": "python",
   "pygments_lexer": "ipython3",
   "version": "3.11.9"
  }
 },
 "nbformat": 4,
 "nbformat_minor": 2
}
